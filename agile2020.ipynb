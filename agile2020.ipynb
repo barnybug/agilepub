{
 "metadata": {
  "language_info": {
   "codemirror_mode": {
    "name": "ipython",
    "version": 3
   },
   "file_extension": ".py",
   "mimetype": "text/x-python",
   "name": "python",
   "nbconvert_exporter": "python",
   "pygments_lexer": "ipython3",
   "version": "3.9.1-final"
  },
  "orig_nbformat": 2,
  "kernelspec": {
   "name": "python3",
   "display_name": "Python 3",
   "language": "python"
  }
 },
 "nbformat": 4,
 "nbformat_minor": 2,
 "cells": [
  {
   "source": [
    "# Octopus Agile in 2020\n",
    "\n",
    "Some data insights into Agile this past year."
   ],
   "cell_type": "markdown",
   "metadata": {}
  },
  {
   "cell_type": "code",
   "execution_count": 103,
   "metadata": {},
   "outputs": [],
   "source": [
    "import altair as alt\n",
    "import pandas as pd\n",
    "\n",
    "def read_year(i):\n",
    "    df = pd.read_csv(f'agile.{i}.csv', index_col=0)\n",
    "    df.index = pd.to_datetime(df.index, utc=True).tz_convert('Europe/London')\n",
    "    return df\n",
    "\n",
    "df = read_year(2020)\n",
    "all_years = pd.concat(\n",
    "    read_year(i) for i in (2017, 2018, 2019, 2020))"
   ]
  },
  {
   "source": [
    "## Best and worst months\n",
    "\n",
    "As lockdown commenced, electricity prices plunged to record lows."
   ],
   "cell_type": "markdown",
   "metadata": {}
  },
  {
   "cell_type": "code",
   "execution_count": 104,
   "metadata": {},
   "outputs": [
    {
     "output_type": "stream",
     "name": "stdout",
     "text": [
      "The cheapest month was May averaging 5.733 p/kWh.\nThe most expensive month was December averaging 11.466 p/kWh.\n\n"
     ]
    },
    {
     "output_type": "execute_result",
     "data": {
      "text/html": "\n<div id=\"altair-viz-e91ab988fb9e410cad1d64177069b5c0\"></div>\n<script type=\"text/javascript\">\n  (function(spec, embedOpt){\n    let outputDiv = document.currentScript.previousElementSibling;\n    if (outputDiv.id !== \"altair-viz-e91ab988fb9e410cad1d64177069b5c0\") {\n      outputDiv = document.getElementById(\"altair-viz-e91ab988fb9e410cad1d64177069b5c0\");\n    }\n    const paths = {\n      \"vega\": \"https://cdn.jsdelivr.net/npm//vega@5?noext\",\n      \"vega-lib\": \"https://cdn.jsdelivr.net/npm//vega-lib?noext\",\n      \"vega-lite\": \"https://cdn.jsdelivr.net/npm//vega-lite@4.8.1?noext\",\n      \"vega-embed\": \"https://cdn.jsdelivr.net/npm//vega-embed@6?noext\",\n    };\n\n    function loadScript(lib) {\n      return new Promise(function(resolve, reject) {\n        var s = document.createElement('script');\n        s.src = paths[lib];\n        s.async = true;\n        s.onload = () => resolve(paths[lib]);\n        s.onerror = () => reject(`Error loading script: ${paths[lib]}`);\n        document.getElementsByTagName(\"head\")[0].appendChild(s);\n      });\n    }\n\n    function showError(err) {\n      outputDiv.innerHTML = `<div class=\"error\" style=\"color:red;\">${err}</div>`;\n      throw err;\n    }\n\n    function displayChart(vegaEmbed) {\n      vegaEmbed(outputDiv, spec, embedOpt)\n        .catch(err => showError(`Javascript Error: ${err.message}<br>This usually means there's a typo in your chart specification. See the javascript console for the full traceback.`));\n    }\n\n    if(typeof define === \"function\" && define.amd) {\n      requirejs.config({paths});\n      require([\"vega-embed\"], displayChart, err => showError(`Error loading script: ${err.message}`));\n    } else if (typeof vegaEmbed === \"function\") {\n      displayChart(vegaEmbed);\n    } else {\n      loadScript(\"vega\")\n        .then(() => loadScript(\"vega-lite\"))\n        .then(() => loadScript(\"vega-embed\"))\n        .catch(showError)\n        .then(() => displayChart(vegaEmbed));\n    }\n  })({\"config\": {\"view\": {\"continuousWidth\": 400, \"continuousHeight\": 300}}, \"data\": {\"name\": \"data-d74cf58c34806d94b8b0991f357bdce7\"}, \"mark\": {\"type\": \"bar\", \"width\": 20}, \"encoding\": {\"color\": {\"type\": \"quantitative\", \"field\": \"rate\", \"legend\": null, \"scale\": {\"scheme\": \"goldred\"}}, \"x\": {\"type\": \"temporal\", \"field\": \"timestamp\", \"title\": \"Month\"}, \"y\": {\"type\": \"quantitative\", \"field\": \"rate\", \"title\": \"Rate / p\"}}, \"width\": 600, \"$schema\": \"https://vega.github.io/schema/vega-lite/v4.8.1.json\", \"datasets\": {\"data-d74cf58c34806d94b8b0991f357bdce7\": [{\"timestamp\": \"2020-01-01T00:00:00+00:00\", \"rate\": 7.938}, {\"timestamp\": \"2020-02-01T00:00:00+00:00\", \"rate\": 7.2555}, {\"timestamp\": \"2020-03-01T00:00:00+00:00\", \"rate\": 6.8355}, {\"timestamp\": \"2020-04-01T00:00:00+01:00\", \"rate\": 5.9535}, {\"timestamp\": \"2020-05-01T00:00:00+01:00\", \"rate\": 5.733}, {\"timestamp\": \"2020-06-01T00:00:00+01:00\", \"rate\": 6.257999999999999}, {\"timestamp\": \"2020-07-01T00:00:00+01:00\", \"rate\": 6.7095}, {\"timestamp\": \"2020-08-01T00:00:00+01:00\", \"rate\": 7.938}, {\"timestamp\": \"2020-09-01T00:00:00+01:00\", \"rate\": 9.261000000000001}, {\"timestamp\": \"2020-10-01T00:00:00+01:00\", \"rate\": 9.5025}, {\"timestamp\": \"2020-11-01T00:00:00+00:00\", \"rate\": 9.3555}, {\"timestamp\": \"2020-12-01T00:00:00+00:00\", \"rate\": 11.466}]}}, {\"mode\": \"vega-lite\"});\n</script>",
      "text/plain": [
       "alt.Chart(...)"
      ]
     },
     "metadata": {},
     "execution_count": 104
    }
   ],
   "source": [
    "median_rate = df['rate'].resample('MS').median()\n",
    "cheapest = median_rate.idxmin()\n",
    "expensive = median_rate.idxmax()\n",
    "print(f'The cheapest month was {cheapest.strftime(\"%B\")} averaging {median_rate.min()} p/kWh.')\n",
    "print(f'The most expensive month was {expensive.strftime(\"%B\")} averaging {median_rate.max()} p/kWh.\\n')\n",
    "alt.Chart(median_rate.reset_index()).mark_bar(width=20).encode(\n",
    "    alt.X('timestamp', title='Month'),\n",
    "    alt.Y('rate', title='Rate / p'),\n",
    "    alt.Color('rate', scale=alt.Scale(scheme='goldred'), legend=None),\n",
    ").properties(width=600)"
   ]
  },
  {
   "source": [
    "In comparison to previous years, it was a very cheap year for Agile..."
   ],
   "cell_type": "markdown",
   "metadata": {}
  },
  {
   "cell_type": "code",
   "execution_count": 105,
   "metadata": {},
   "outputs": [
    {
     "output_type": "execute_result",
     "data": {
      "text/html": "\n<div id=\"altair-viz-2c86d2afa31e48bc822b4ab6ca17a62f\"></div>\n<script type=\"text/javascript\">\n  (function(spec, embedOpt){\n    let outputDiv = document.currentScript.previousElementSibling;\n    if (outputDiv.id !== \"altair-viz-2c86d2afa31e48bc822b4ab6ca17a62f\") {\n      outputDiv = document.getElementById(\"altair-viz-2c86d2afa31e48bc822b4ab6ca17a62f\");\n    }\n    const paths = {\n      \"vega\": \"https://cdn.jsdelivr.net/npm//vega@5?noext\",\n      \"vega-lib\": \"https://cdn.jsdelivr.net/npm//vega-lib?noext\",\n      \"vega-lite\": \"https://cdn.jsdelivr.net/npm//vega-lite@4.8.1?noext\",\n      \"vega-embed\": \"https://cdn.jsdelivr.net/npm//vega-embed@6?noext\",\n    };\n\n    function loadScript(lib) {\n      return new Promise(function(resolve, reject) {\n        var s = document.createElement('script');\n        s.src = paths[lib];\n        s.async = true;\n        s.onload = () => resolve(paths[lib]);\n        s.onerror = () => reject(`Error loading script: ${paths[lib]}`);\n        document.getElementsByTagName(\"head\")[0].appendChild(s);\n      });\n    }\n\n    function showError(err) {\n      outputDiv.innerHTML = `<div class=\"error\" style=\"color:red;\">${err}</div>`;\n      throw err;\n    }\n\n    function displayChart(vegaEmbed) {\n      vegaEmbed(outputDiv, spec, embedOpt)\n        .catch(err => showError(`Javascript Error: ${err.message}<br>This usually means there's a typo in your chart specification. See the javascript console for the full traceback.`));\n    }\n\n    if(typeof define === \"function\" && define.amd) {\n      requirejs.config({paths});\n      require([\"vega-embed\"], displayChart, err => showError(`Error loading script: ${err.message}`));\n    } else if (typeof vegaEmbed === \"function\") {\n      displayChart(vegaEmbed);\n    } else {\n      loadScript(\"vega\")\n        .then(() => loadScript(\"vega-lite\"))\n        .then(() => loadScript(\"vega-embed\"))\n        .catch(showError)\n        .then(() => displayChart(vegaEmbed));\n    }\n  })({\"config\": {\"view\": {\"continuousWidth\": 400, \"continuousHeight\": 300}}, \"data\": {\"name\": \"data-1a93428c8cc82e5706847505e46b964b\"}, \"facet\": {\"column\": {\"type\": \"quantitative\", \"field\": \"year\"}}, \"spec\": {\"mark\": {\"type\": \"bar\", \"width\": 10}, \"encoding\": {\"color\": {\"type\": \"quantitative\", \"field\": \"rate\", \"legend\": null, \"scale\": {\"scheme\": \"goldred\"}}, \"x\": {\"type\": \"temporal\", \"field\": \"timestamp\", \"title\": \"Month\"}, \"y\": {\"type\": \"quantitative\", \"field\": \"rate\", \"title\": \"Rate / p\"}}, \"width\": 200}, \"resolve\": {\"scale\": {\"x\": \"independent\"}}, \"$schema\": \"https://vega.github.io/schema/vega-lite/v4.8.1.json\", \"datasets\": {\"data-1a93428c8cc82e5706847505e46b964b\": [{\"timestamp\": \"2017-01-01T00:00:00+00:00\", \"rate\": 10.479000000000001, \"year\": 2017}, {\"timestamp\": \"2017-02-01T00:00:00+00:00\", \"rate\": 10.1115, \"year\": 2017}, {\"timestamp\": \"2017-03-01T00:00:00+00:00\", \"rate\": 8.5575, \"year\": 2017}, {\"timestamp\": \"2017-04-01T00:00:00+01:00\", \"rate\": 8.379, \"year\": 2017}, {\"timestamp\": \"2017-05-01T00:00:00+01:00\", \"rate\": 8.568, \"year\": 2017}, {\"timestamp\": \"2017-06-01T00:00:00+01:00\", \"rate\": 8.10075, \"year\": 2017}, {\"timestamp\": \"2017-07-01T00:00:00+01:00\", \"rate\": 8.47875, \"year\": 2017}, {\"timestamp\": \"2017-08-01T00:00:00+01:00\", \"rate\": 8.88825, \"year\": 2017}, {\"timestamp\": \"2017-09-01T00:00:00+01:00\", \"rate\": 9.4815, \"year\": 2017}, {\"timestamp\": \"2017-10-01T00:00:00+01:00\", \"rate\": 9.4815, \"year\": 2017}, {\"timestamp\": \"2017-11-01T00:00:00+00:00\", \"rate\": 10.58925, \"year\": 2017}, {\"timestamp\": \"2017-12-01T00:00:00+00:00\", \"rate\": 11.5395, \"year\": 2017}, {\"timestamp\": \"2018-01-01T00:00:00+00:00\", \"rate\": 10.337250000000001, \"year\": 2018}, {\"timestamp\": \"2018-02-01T00:00:00+00:00\", \"rate\": 10.50525, \"year\": 2018}, {\"timestamp\": \"2018-03-01T00:00:00+00:00\", \"rate\": 11.466, \"year\": 2018}, {\"timestamp\": \"2018-04-01T00:00:00+01:00\", \"rate\": 10.584000000000001, \"year\": 2018}, {\"timestamp\": \"2018-05-01T00:00:00+01:00\", \"rate\": 11.025, \"year\": 2018}, {\"timestamp\": \"2018-06-01T00:00:00+01:00\", \"rate\": 11.466, \"year\": 2018}, {\"timestamp\": \"2018-07-01T00:00:00+01:00\", \"rate\": 12.306, \"year\": 2018}, {\"timestamp\": \"2018-08-01T00:00:00+01:00\", \"rate\": 13.23, \"year\": 2018}, {\"timestamp\": \"2018-09-01T00:00:00+01:00\", \"rate\": 14.552999999999999, \"year\": 2018}, {\"timestamp\": \"2018-10-01T00:00:00+01:00\", \"rate\": 13.776, \"year\": 2018}, {\"timestamp\": \"2018-11-01T00:00:00+00:00\", \"rate\": 13.23, \"year\": 2018}, {\"timestamp\": \"2018-12-01T00:00:00+00:00\", \"rate\": 13.5135, \"year\": 2018}, {\"timestamp\": \"2019-01-01T00:00:00+00:00\", \"rate\": 13.0095, \"year\": 2019}, {\"timestamp\": \"2019-02-01T00:00:00+00:00\", \"rate\": 10.5735, \"year\": 2019}, {\"timestamp\": \"2019-03-01T00:00:00+00:00\", \"rate\": 9.366, \"year\": 2019}, {\"timestamp\": \"2019-04-01T00:00:00+01:00\", \"rate\": 9.471, \"year\": 2019}, {\"timestamp\": \"2019-05-01T00:00:00+01:00\", \"rate\": 9.0405, \"year\": 2019}, {\"timestamp\": \"2019-06-01T00:00:00+01:00\", \"rate\": 8.526, \"year\": 2019}, {\"timestamp\": \"2019-07-01T00:00:00+01:00\", \"rate\": 9.093, \"year\": 2019}, {\"timestamp\": \"2019-08-01T00:00:00+01:00\", \"rate\": 8.5995, \"year\": 2019}, {\"timestamp\": \"2019-09-01T00:00:00+01:00\", \"rate\": 7.9905, \"year\": 2019}, {\"timestamp\": \"2019-10-01T00:00:00+01:00\", \"rate\": 8.05875, \"year\": 2019}, {\"timestamp\": \"2019-11-01T00:00:00+00:00\", \"rate\": 9.9225, \"year\": 2019}, {\"timestamp\": \"2019-12-01T00:00:00+00:00\", \"rate\": 8.82, \"year\": 2019}, {\"timestamp\": \"2020-01-01T00:00:00+00:00\", \"rate\": 7.938, \"year\": 2020}, {\"timestamp\": \"2020-02-01T00:00:00+00:00\", \"rate\": 7.2555, \"year\": 2020}, {\"timestamp\": \"2020-03-01T00:00:00+00:00\", \"rate\": 6.8355, \"year\": 2020}, {\"timestamp\": \"2020-04-01T00:00:00+01:00\", \"rate\": 5.9535, \"year\": 2020}, {\"timestamp\": \"2020-05-01T00:00:00+01:00\", \"rate\": 5.733, \"year\": 2020}, {\"timestamp\": \"2020-06-01T00:00:00+01:00\", \"rate\": 6.257999999999999, \"year\": 2020}, {\"timestamp\": \"2020-07-01T00:00:00+01:00\", \"rate\": 6.7095, \"year\": 2020}, {\"timestamp\": \"2020-08-01T00:00:00+01:00\", \"rate\": 7.938, \"year\": 2020}, {\"timestamp\": \"2020-09-01T00:00:00+01:00\", \"rate\": 9.261000000000001, \"year\": 2020}, {\"timestamp\": \"2020-10-01T00:00:00+01:00\", \"rate\": 9.5025, \"year\": 2020}, {\"timestamp\": \"2020-11-01T00:00:00+00:00\", \"rate\": 9.3555, \"year\": 2020}, {\"timestamp\": \"2020-12-01T00:00:00+00:00\", \"rate\": 11.466, \"year\": 2020}]}}, {\"mode\": \"vega-lite\"});\n</script>",
      "text/plain": [
       "alt.FacetChart(...)"
      ]
     },
     "metadata": {},
     "execution_count": 105
    }
   ],
   "source": [
    "median_rate = all_years.resample('MS').median()\n",
    "median_rate['year'] = median_rate.index.year\n",
    "alt.Chart(median_rate.reset_index()).mark_bar(width=10).encode(\n",
    "    alt.X('timestamp', title='Month'),\n",
    "    alt.Y('rate', title='Rate / p'),\n",
    "    alt.Color('rate', scale=alt.Scale(scheme='goldred'), legend=None),\n",
    ").properties(\n",
    "    width=200\n",
    ").facet(column='year').resolve_scale(\n",
    "    x='independent'\n",
    ")"
   ]
  },
  {
   "source": [
    "With a record number of plunge days in 2020..."
   ],
   "cell_type": "markdown",
   "metadata": {}
  },
  {
   "cell_type": "code",
   "execution_count": 106,
   "metadata": {},
   "outputs": [
    {
     "output_type": "execute_result",
     "data": {
      "text/html": "\n<div id=\"altair-viz-ee83aa34d82444e882cf61a1f1b14939\"></div>\n<script type=\"text/javascript\">\n  (function(spec, embedOpt){\n    let outputDiv = document.currentScript.previousElementSibling;\n    if (outputDiv.id !== \"altair-viz-ee83aa34d82444e882cf61a1f1b14939\") {\n      outputDiv = document.getElementById(\"altair-viz-ee83aa34d82444e882cf61a1f1b14939\");\n    }\n    const paths = {\n      \"vega\": \"https://cdn.jsdelivr.net/npm//vega@5?noext\",\n      \"vega-lib\": \"https://cdn.jsdelivr.net/npm//vega-lib?noext\",\n      \"vega-lite\": \"https://cdn.jsdelivr.net/npm//vega-lite@4.8.1?noext\",\n      \"vega-embed\": \"https://cdn.jsdelivr.net/npm//vega-embed@6?noext\",\n    };\n\n    function loadScript(lib) {\n      return new Promise(function(resolve, reject) {\n        var s = document.createElement('script');\n        s.src = paths[lib];\n        s.async = true;\n        s.onload = () => resolve(paths[lib]);\n        s.onerror = () => reject(`Error loading script: ${paths[lib]}`);\n        document.getElementsByTagName(\"head\")[0].appendChild(s);\n      });\n    }\n\n    function showError(err) {\n      outputDiv.innerHTML = `<div class=\"error\" style=\"color:red;\">${err}</div>`;\n      throw err;\n    }\n\n    function displayChart(vegaEmbed) {\n      vegaEmbed(outputDiv, spec, embedOpt)\n        .catch(err => showError(`Javascript Error: ${err.message}<br>This usually means there's a typo in your chart specification. See the javascript console for the full traceback.`));\n    }\n\n    if(typeof define === \"function\" && define.amd) {\n      requirejs.config({paths});\n      require([\"vega-embed\"], displayChart, err => showError(`Error loading script: ${err.message}`));\n    } else if (typeof vegaEmbed === \"function\") {\n      displayChart(vegaEmbed);\n    } else {\n      loadScript(\"vega\")\n        .then(() => loadScript(\"vega-lite\"))\n        .then(() => loadScript(\"vega-embed\"))\n        .catch(showError)\n        .then(() => displayChart(vegaEmbed));\n    }\n  })({\"config\": {\"view\": {\"continuousWidth\": 400, \"continuousHeight\": 300}}, \"data\": {\"name\": \"data-7d34cad104343db3243e9e070734ef8a\"}, \"mark\": \"bar\", \"encoding\": {\"x\": {\"type\": \"quantitative\", \"field\": \"rate\", \"title\": \"Plunge days\"}, \"y\": {\"type\": \"ordinal\", \"field\": \"timestamp\", \"title\": \"Year\"}}, \"height\": 100, \"title\": \"Plunge days by year\", \"width\": 600, \"$schema\": \"https://vega.github.io/schema/vega-lite/v4.8.1.json\", \"datasets\": {\"data-7d34cad104343db3243e9e070734ef8a\": [{\"timestamp\": 2017, \"rate\": 1}, {\"timestamp\": 2018, \"rate\": 1}, {\"timestamp\": 2019, \"rate\": 2}, {\"timestamp\": 2020, \"rate\": 24}]}}, {\"mode\": \"vega-lite\"});\n</script>",
      "text/plain": [
       "alt.Chart(...)"
      ]
     },
     "metadata": {},
     "execution_count": 106
    }
   ],
   "source": [
    "plunges = (all_years.rate < 0).resample('D').sum()\n",
    "by_year = (plunges > 0).groupby(plunges.index.year).sum().astype(int)\n",
    "alt.Chart(by_year.reset_index()).mark_bar().encode(\n",
    "    alt.X('rate', title='Plunge days'),\n",
    "    alt.Y('timestamp:O', title='Year'),\n",
    ").properties(\n",
    "    title='Plunge days by year',\n",
    "    width=600,\n",
    "    height=100,\n",
    ")"
   ]
  },
  {
   "cell_type": "code",
   "execution_count": 107,
   "metadata": {},
   "outputs": [
    {
     "output_type": "execute_result",
     "data": {
      "text/html": "\n<div id=\"altair-viz-c00a55a3f2474456a50d61b2c8c235b0\"></div>\n<script type=\"text/javascript\">\n  (function(spec, embedOpt){\n    let outputDiv = document.currentScript.previousElementSibling;\n    if (outputDiv.id !== \"altair-viz-c00a55a3f2474456a50d61b2c8c235b0\") {\n      outputDiv = document.getElementById(\"altair-viz-c00a55a3f2474456a50d61b2c8c235b0\");\n    }\n    const paths = {\n      \"vega\": \"https://cdn.jsdelivr.net/npm//vega@5?noext\",\n      \"vega-lib\": \"https://cdn.jsdelivr.net/npm//vega-lib?noext\",\n      \"vega-lite\": \"https://cdn.jsdelivr.net/npm//vega-lite@4.8.1?noext\",\n      \"vega-embed\": \"https://cdn.jsdelivr.net/npm//vega-embed@6?noext\",\n    };\n\n    function loadScript(lib) {\n      return new Promise(function(resolve, reject) {\n        var s = document.createElement('script');\n        s.src = paths[lib];\n        s.async = true;\n        s.onload = () => resolve(paths[lib]);\n        s.onerror = () => reject(`Error loading script: ${paths[lib]}`);\n        document.getElementsByTagName(\"head\")[0].appendChild(s);\n      });\n    }\n\n    function showError(err) {\n      outputDiv.innerHTML = `<div class=\"error\" style=\"color:red;\">${err}</div>`;\n      throw err;\n    }\n\n    function displayChart(vegaEmbed) {\n      vegaEmbed(outputDiv, spec, embedOpt)\n        .catch(err => showError(`Javascript Error: ${err.message}<br>This usually means there's a typo in your chart specification. See the javascript console for the full traceback.`));\n    }\n\n    if(typeof define === \"function\" && define.amd) {\n      requirejs.config({paths});\n      require([\"vega-embed\"], displayChart, err => showError(`Error loading script: ${err.message}`));\n    } else if (typeof vegaEmbed === \"function\") {\n      displayChart(vegaEmbed);\n    } else {\n      loadScript(\"vega\")\n        .then(() => loadScript(\"vega-lite\"))\n        .then(() => loadScript(\"vega-embed\"))\n        .catch(showError)\n        .then(() => displayChart(vegaEmbed));\n    }\n  })({\"config\": {\"view\": {\"continuousWidth\": 400, \"continuousHeight\": 300, \"strokeWidth\": 0}, \"axis\": {\"grid\": false}}, \"data\": {\"name\": \"data-94b0d253af4104a23879f27922d73e78\"}, \"mark\": {\"type\": \"bar\", \"height\": 15}, \"encoding\": {\"x\": {\"type\": \"quantitative\", \"field\": \"rate\", \"title\": \"Plunge days\"}, \"y\": {\"type\": \"temporal\", \"field\": \"timestamp\", \"title\": \"Month\"}}, \"height\": 250, \"title\": \"Plunge days by month 2020\", \"width\": 600, \"$schema\": \"https://vega.github.io/schema/vega-lite/v4.8.1.json\", \"datasets\": {\"data-94b0d253af4104a23879f27922d73e78\": [{\"timestamp\": \"2020-01-01T00:00:00+00:00\", \"rate\": 0}, {\"timestamp\": \"2020-02-01T00:00:00+00:00\", \"rate\": 2}, {\"timestamp\": \"2020-03-01T00:00:00+00:00\", \"rate\": 1}, {\"timestamp\": \"2020-04-01T00:00:00+01:00\", \"rate\": 7}, {\"timestamp\": \"2020-05-01T00:00:00+01:00\", \"rate\": 4}, {\"timestamp\": \"2020-06-01T00:00:00+01:00\", \"rate\": 3}, {\"timestamp\": \"2020-07-01T00:00:00+01:00\", \"rate\": 2}, {\"timestamp\": \"2020-08-01T00:00:00+01:00\", \"rate\": 0}, {\"timestamp\": \"2020-09-01T00:00:00+01:00\", \"rate\": 0}, {\"timestamp\": \"2020-10-01T00:00:00+01:00\", \"rate\": 1}, {\"timestamp\": \"2020-11-01T00:00:00+00:00\", \"rate\": 2}, {\"timestamp\": \"2020-12-01T00:00:00+00:00\", \"rate\": 2}]}}, {\"mode\": \"vega-lite\"});\n</script>",
      "text/plain": [
       "alt.Chart(...)"
      ]
     },
     "metadata": {},
     "execution_count": 107
    }
   ],
   "source": [
    "plunges_2020 = (df.rate < 0).resample('D').sum() > 0\n",
    "by_month = plunges_2020.resample('MS').sum()\n",
    "alt.Chart(by_month.reset_index()).mark_bar(height=15).encode(\n",
    "    alt.X('rate', title='Plunge days'),\n",
    "    alt.Y('timestamp', title='Month'),\n",
    ").configure_axis(\n",
    "    grid=False\n",
    ").configure_view(\n",
    "    strokeWidth=0\n",
    ").properties(\n",
    "    title='Plunge days by month 2020',\n",
    "    width=600,\n",
    "    height=250,\n",
    ")"
   ]
  },
  {
   "source": [
    "With Sunday having the most plunges, closely followed by Monday. Thursday had none!"
   ],
   "cell_type": "markdown",
   "metadata": {}
  },
  {
   "cell_type": "code",
   "execution_count": 108,
   "metadata": {},
   "outputs": [
    {
     "output_type": "execute_result",
     "data": {
      "text/html": "\n<div id=\"altair-viz-dd1550972ccf40c382d3ded79b59cdb8\"></div>\n<script type=\"text/javascript\">\n  (function(spec, embedOpt){\n    let outputDiv = document.currentScript.previousElementSibling;\n    if (outputDiv.id !== \"altair-viz-dd1550972ccf40c382d3ded79b59cdb8\") {\n      outputDiv = document.getElementById(\"altair-viz-dd1550972ccf40c382d3ded79b59cdb8\");\n    }\n    const paths = {\n      \"vega\": \"https://cdn.jsdelivr.net/npm//vega@5?noext\",\n      \"vega-lib\": \"https://cdn.jsdelivr.net/npm//vega-lib?noext\",\n      \"vega-lite\": \"https://cdn.jsdelivr.net/npm//vega-lite@4.8.1?noext\",\n      \"vega-embed\": \"https://cdn.jsdelivr.net/npm//vega-embed@6?noext\",\n    };\n\n    function loadScript(lib) {\n      return new Promise(function(resolve, reject) {\n        var s = document.createElement('script');\n        s.src = paths[lib];\n        s.async = true;\n        s.onload = () => resolve(paths[lib]);\n        s.onerror = () => reject(`Error loading script: ${paths[lib]}`);\n        document.getElementsByTagName(\"head\")[0].appendChild(s);\n      });\n    }\n\n    function showError(err) {\n      outputDiv.innerHTML = `<div class=\"error\" style=\"color:red;\">${err}</div>`;\n      throw err;\n    }\n\n    function displayChart(vegaEmbed) {\n      vegaEmbed(outputDiv, spec, embedOpt)\n        .catch(err => showError(`Javascript Error: ${err.message}<br>This usually means there's a typo in your chart specification. See the javascript console for the full traceback.`));\n    }\n\n    if(typeof define === \"function\" && define.amd) {\n      requirejs.config({paths});\n      require([\"vega-embed\"], displayChart, err => showError(`Error loading script: ${err.message}`));\n    } else if (typeof vegaEmbed === \"function\") {\n      displayChart(vegaEmbed);\n    } else {\n      loadScript(\"vega\")\n        .then(() => loadScript(\"vega-lite\"))\n        .then(() => loadScript(\"vega-embed\"))\n        .catch(showError)\n        .then(() => displayChart(vegaEmbed));\n    }\n  })({\"config\": {\"view\": {\"continuousWidth\": 400, \"continuousHeight\": 300}}, \"data\": {\"name\": \"data-778db3d1df7eec64bc3d52f0f9505474\"}, \"mark\": \"bar\", \"encoding\": {\"x\": {\"type\": \"nominal\", \"field\": \"timestamp\", \"sort\": null, \"title\": null}, \"y\": {\"type\": \"quantitative\", \"field\": \"rate\", \"title\": \"Plunge days\"}}, \"height\": 250, \"title\": \"Plunges by day of week\", \"width\": 600, \"$schema\": \"https://vega.github.io/schema/vega-lite/v4.8.1.json\", \"datasets\": {\"data-778db3d1df7eec64bc3d52f0f9505474\": [{\"timestamp\": \"Sunday\", \"rate\": 9}, {\"timestamp\": \"Monday\", \"rate\": 8}, {\"timestamp\": \"Saturday\", \"rate\": 4}, {\"timestamp\": \"Wednesday\", \"rate\": 1}, {\"timestamp\": \"Tuesday\", \"rate\": 1}, {\"timestamp\": \"Friday\", \"rate\": 1}, {\"timestamp\": \"Thursday\", \"rate\": 0}]}}, {\"mode\": \"vega-lite\"});\n</script>",
      "text/plain": [
       "alt.Chart(...)"
      ]
     },
     "metadata": {},
     "execution_count": 108
    }
   ],
   "source": [
    "by_dow = plunges_2020.groupby(plunges_2020.index.day_name()).sum()\n",
    "by_dow = by_dow.sort_values(ascending=False)\n",
    "alt.Chart(by_dow.reset_index()).mark_bar().encode(\n",
    "    alt.X('timestamp', title=None, sort=None),\n",
    "    alt.Y('rate', title='Plunge days'),\n",
    ").properties(\n",
    "    title='Plunges by day of week',\n",
    "    width=600,\n",
    "    height=250,\n",
    ")"
   ]
  },
  {
   "cell_type": "code",
   "execution_count": 109,
   "metadata": {},
   "outputs": [
    {
     "output_type": "display_data",
     "data": {
      "text/plain": "<IPython.core.display.HTML object>",
      "text/html": "<script src=\"https://cdn.rawgit.com/parente/4c3e6936d0d7a46fd071/raw/65b816fb9bdd3c28b4ddf3af602bfd6015486383/code_toggle.js\"></script>\n"
     },
     "metadata": {}
    }
   ],
   "source": [
    "%%html\n",
    "<script src=\"https://cdn.rawgit.com/parente/4c3e6936d0d7a46fd071/raw/65b816fb9bdd3c28b4ddf3af602bfd6015486383/code_toggle.js\"></script>"
   ]
  }
 ]
}