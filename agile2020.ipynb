{
 "metadata": {
  "language_info": {
   "codemirror_mode": {
    "name": "ipython",
    "version": 3
   },
   "file_extension": ".py",
   "mimetype": "text/x-python",
   "name": "python",
   "nbconvert_exporter": "python",
   "pygments_lexer": "ipython3",
   "version": "3.9.1-final"
  },
  "orig_nbformat": 2,
  "kernelspec": {
   "name": "python3",
   "display_name": "Python 3",
   "language": "python"
  }
 },
 "nbformat": 4,
 "nbformat_minor": 2,
 "cells": [
  {
   "source": [
    "# Octopus Agile in 2020"
   ],
   "cell_type": "markdown",
   "metadata": {}
  },
  {
   "cell_type": "code",
   "execution_count": 11,
   "metadata": {},
   "outputs": [],
   "source": [
    "import altair as alt\n",
    "import pandas as pd\n",
    "\n",
    "def read_year(i):\n",
    "    df = pd.read_csv(f'agile.{i}.csv', index_col=0)\n",
    "    df.index = pd.to_datetime(df.index, utc=True).tz_convert('Europe/London')\n",
    "    return df\n",
    "\n",
    "df = read_year(2020)\n",
    "all_years = pd.concat(\n",
    "    read_year(i) for i in (2017, 2018, 2019, 2020))"
   ]
  },
  {
   "cell_type": "code",
   "execution_count": 47,
   "metadata": {},
   "outputs": [
    {
     "output_type": "stream",
     "name": "stdout",
     "text": [
      "The cheapest month was May averaging 5.733 p/kWh.\nThe most expensive month was December averaging 11.466 p/kWh.\n\n"
     ]
    },
    {
     "output_type": "execute_result",
     "data": {
      "text/html": "\n<div id=\"altair-viz-0bdcd105ff3b482da801dc8e0f23ff69\"></div>\n<script type=\"text/javascript\">\n  (function(spec, embedOpt){\n    let outputDiv = document.currentScript.previousElementSibling;\n    if (outputDiv.id !== \"altair-viz-0bdcd105ff3b482da801dc8e0f23ff69\") {\n      outputDiv = document.getElementById(\"altair-viz-0bdcd105ff3b482da801dc8e0f23ff69\");\n    }\n    const paths = {\n      \"vega\": \"https://cdn.jsdelivr.net/npm//vega@5?noext\",\n      \"vega-lib\": \"https://cdn.jsdelivr.net/npm//vega-lib?noext\",\n      \"vega-lite\": \"https://cdn.jsdelivr.net/npm//vega-lite@4.8.1?noext\",\n      \"vega-embed\": \"https://cdn.jsdelivr.net/npm//vega-embed@6?noext\",\n    };\n\n    function loadScript(lib) {\n      return new Promise(function(resolve, reject) {\n        var s = document.createElement('script');\n        s.src = paths[lib];\n        s.async = true;\n        s.onload = () => resolve(paths[lib]);\n        s.onerror = () => reject(`Error loading script: ${paths[lib]}`);\n        document.getElementsByTagName(\"head\")[0].appendChild(s);\n      });\n    }\n\n    function showError(err) {\n      outputDiv.innerHTML = `<div class=\"error\" style=\"color:red;\">${err}</div>`;\n      throw err;\n    }\n\n    function displayChart(vegaEmbed) {\n      vegaEmbed(outputDiv, spec, embedOpt)\n        .catch(err => showError(`Javascript Error: ${err.message}<br>This usually means there's a typo in your chart specification. See the javascript console for the full traceback.`));\n    }\n\n    if(typeof define === \"function\" && define.amd) {\n      requirejs.config({paths});\n      require([\"vega-embed\"], displayChart, err => showError(`Error loading script: ${err.message}`));\n    } else if (typeof vegaEmbed === \"function\") {\n      displayChart(vegaEmbed);\n    } else {\n      loadScript(\"vega\")\n        .then(() => loadScript(\"vega-lite\"))\n        .then(() => loadScript(\"vega-embed\"))\n        .catch(showError)\n        .then(() => displayChart(vegaEmbed));\n    }\n  })({\"config\": {\"view\": {\"continuousWidth\": 400, \"continuousHeight\": 300}}, \"data\": {\"name\": \"data-d74cf58c34806d94b8b0991f357bdce7\"}, \"mark\": {\"type\": \"bar\", \"width\": 20}, \"encoding\": {\"x\": {\"type\": \"temporal\", \"field\": \"timestamp\", \"title\": \"Month\"}, \"y\": {\"type\": \"quantitative\", \"field\": \"rate\", \"title\": \"Rate / p\"}}, \"$schema\": \"https://vega.github.io/schema/vega-lite/v4.8.1.json\", \"datasets\": {\"data-d74cf58c34806d94b8b0991f357bdce7\": [{\"timestamp\": \"2020-01-01T00:00:00+00:00\", \"rate\": 7.938}, {\"timestamp\": \"2020-02-01T00:00:00+00:00\", \"rate\": 7.2555}, {\"timestamp\": \"2020-03-01T00:00:00+00:00\", \"rate\": 6.8355}, {\"timestamp\": \"2020-04-01T00:00:00+01:00\", \"rate\": 5.9535}, {\"timestamp\": \"2020-05-01T00:00:00+01:00\", \"rate\": 5.733}, {\"timestamp\": \"2020-06-01T00:00:00+01:00\", \"rate\": 6.257999999999999}, {\"timestamp\": \"2020-07-01T00:00:00+01:00\", \"rate\": 6.7095}, {\"timestamp\": \"2020-08-01T00:00:00+01:00\", \"rate\": 7.938}, {\"timestamp\": \"2020-09-01T00:00:00+01:00\", \"rate\": 9.261000000000001}, {\"timestamp\": \"2020-10-01T00:00:00+01:00\", \"rate\": 9.5025}, {\"timestamp\": \"2020-11-01T00:00:00+00:00\", \"rate\": 9.3555}, {\"timestamp\": \"2020-12-01T00:00:00+00:00\", \"rate\": 11.466}]}}, {\"mode\": \"vega-lite\"});\n</script>",
      "text/plain": [
       "alt.Chart(...)"
      ]
     },
     "metadata": {},
     "execution_count": 47
    }
   ],
   "source": [
    "median_rate = df['rate'].resample('MS').median()\n",
    "cheapest = median_rate.idxmin()\n",
    "expensive = median_rate.idxmax()\n",
    "print(f'The cheapest month was {cheapest.strftime(\"%B\")} averaging {median_rate.min()} p/kWh.')\n",
    "print(f'The most expensive month was {expensive.strftime(\"%B\")} averaging {median_rate.max()} p/kWh.\\n')\n",
    "alt.Chart(median_rate.reset_index()).mark_bar(width=20).encode(\n",
    "    alt.X('timestamp', title='Month'),\n",
    "    alt.Y('rate', title='Rate / p'))"
   ]
  },
  {
   "cell_type": "code",
   "execution_count": 48,
   "metadata": {},
   "outputs": [
    {
     "output_type": "display_data",
     "data": {
      "text/plain": "<IPython.core.display.HTML object>",
      "text/html": "<script src=\"https://cdn.rawgit.com/parente/4c3e6936d0d7a46fd071/raw/65b816fb9bdd3c28b4ddf3af602bfd6015486383/code_toggle.js\"></script>\n"
     },
     "metadata": {}
    }
   ],
   "source": [
    "%%html\n",
    "<script src=\"https://cdn.rawgit.com/parente/4c3e6936d0d7a46fd071/raw/65b816fb9bdd3c28b4ddf3af602bfd6015486383/code_toggle.js\"></script>"
   ]
  }
 ]
}